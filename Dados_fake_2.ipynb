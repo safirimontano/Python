{
  "nbformat": 4,
  "nbformat_minor": 0,
  "metadata": {
    "colab": {
      "provenance": [],
      "authorship_tag": "ABX9TyPM2CQq6Kvx464FLOxiJYoE",
      "include_colab_link": true
    },
    "kernelspec": {
      "name": "python3",
      "display_name": "Python 3"
    },
    "language_info": {
      "name": "python"
    }
  },
  "cells": [
    {
      "cell_type": "markdown",
      "metadata": {
        "id": "view-in-github",
        "colab_type": "text"
      },
      "source": [
        "<a href=\"https://colab.research.google.com/github/safirimontano/Python/blob/main/Dados_fake_2.ipynb\" target=\"_parent\"><img src=\"https://colab.research.google.com/assets/colab-badge.svg\" alt=\"Open In Colab\"/></a>"
      ]
    },
    {
      "cell_type": "code",
      "source": [
        "!pip install cpf_generator\n",
        "!pip install faker\n",
        "\n",
        "from faker import Faker\n",
        "import cpf_generator \n",
        "from cpf_generator import CPF\n",
        "import random\n",
        "import datetime\n",
        "import pandas as pd\n",
        "import plotly as pl"
      ],
      "metadata": {
        "colab": {
          "base_uri": "https://localhost:8080/"
        },
        "id": "ec1A6ixLgVEv",
        "outputId": "ad9dbe01-e9bc-407e-d6ee-b5e98325c5a6"
      },
      "execution_count": null,
      "outputs": [
        {
          "output_type": "stream",
          "name": "stdout",
          "text": [
            "Looking in indexes: https://pypi.org/simple, https://us-python.pkg.dev/colab-wheels/public/simple/\n",
            "Collecting cpf_generator\n",
            "  Downloading cpf_generator-2.1.4-py3-none-any.whl (3.7 kB)\n",
            "Collecting deprecation\n",
            "  Downloading deprecation-2.1.0-py2.py3-none-any.whl (11 kB)\n",
            "Requirement already satisfied: packaging in /usr/local/lib/python3.9/dist-packages (from deprecation->cpf_generator) (23.0)\n",
            "Installing collected packages: deprecation, cpf_generator\n",
            "Successfully installed cpf_generator-2.1.4 deprecation-2.1.0\n",
            "Looking in indexes: https://pypi.org/simple, https://us-python.pkg.dev/colab-wheels/public/simple/\n",
            "Collecting faker\n",
            "  Downloading Faker-17.6.0-py3-none-any.whl (1.7 MB)\n",
            "\u001b[2K     \u001b[90m━━━━━━━━━━━━━━━━━━━━━━━━━━━━━━━━━━━━━━━━\u001b[0m \u001b[32m1.7/1.7 MB\u001b[0m \u001b[31m28.3 MB/s\u001b[0m eta \u001b[36m0:00:00\u001b[0m\n",
            "\u001b[?25hRequirement already satisfied: python-dateutil>=2.4 in /usr/local/lib/python3.9/dist-packages (from faker) (2.8.2)\n",
            "Requirement already satisfied: six>=1.5 in /usr/local/lib/python3.9/dist-packages (from python-dateutil>=2.4->faker) (1.15.0)\n",
            "Installing collected packages: faker\n",
            "Successfully installed faker-17.6.0\n"
          ]
        }
      ]
    },
    {
      "cell_type": "code",
      "source": [
        "fake = Faker(locale='pt_BR')"
      ],
      "metadata": {
        "id": "276vsEAksOpv"
      },
      "execution_count": 61,
      "outputs": []
    },
    {
      "cell_type": "code",
      "source": [
        "# atribuindo o valor para n\n",
        "\n",
        "n =len(lista_nomes)"
      ],
      "metadata": {
        "id": "b1mfV-oZz9tb"
      },
      "execution_count": 87,
      "outputs": []
    },
    {
      "cell_type": "code",
      "source": [
        "# geração de nomes\n",
        "\n",
        "lista_nomes =[]\n",
        "\n",
        "for i in range (20): \n",
        "  nomes = fake.name()\n",
        "  lista_nomes.append(nomes)\n",
        "\n",
        "print(lista_nomes)"
      ],
      "metadata": {
        "colab": {
          "base_uri": "https://localhost:8080/"
        },
        "id": "kZYL-1UfmKlk",
        "outputId": "5cc97182-db2b-4631-c58a-c499ab5a7ce7"
      },
      "execution_count": 62,
      "outputs": [
        {
          "output_type": "stream",
          "name": "stdout",
          "text": [
            "['Agatha Monteiro', 'Esther Lima', 'Samuel Cardoso', 'Renan Martins', 'Joana da Mata', 'Sra. Laís Nascimento', 'Raquel Lima', 'Emanuel Barbosa', 'Sr. Henrique Rocha', 'Clarice Carvalho', 'Joaquim Cunha', 'Benício Ferreira', 'Erick da Mota', 'Dra. Ana Luiza da Rocha', 'Ana Vitória Gomes', 'Olivia Viana', 'Sra. Maria Clara da Conceição', 'Maysa Nascimento', 'Alícia Rocha', 'Isadora Barros']\n"
          ]
        }
      ]
    },
    {
      "cell_type": "code",
      "source": [
        "# Gerar o CPF\n",
        "lista_cpf = []\n",
        "\n",
        "for i in range(n):\n",
        "  cpf = CPF.generate()\n",
        "  formatedCpf = CPF.format(cpf)\n",
        "  lista_cpf.append(formatedCpf)\n",
        "\n",
        "print( lista_cpf)"
      ],
      "metadata": {
        "colab": {
          "base_uri": "https://localhost:8080/"
        },
        "id": "35EN_w0Zsk65",
        "outputId": "0f253324-70c4-4f9e-a555-4389dba7a560"
      },
      "execution_count": 55,
      "outputs": [
        {
          "output_type": "stream",
          "name": "stdout",
          "text": [
            "['456.346.193-86', '359.170.512-83', '976.156.958-64', '962.449.531-93', '524.918.981-44', '743.056.636-78', '997.839.892-94', '922.793.198-88', '403.083.059-57', '119.852.196-11', '576.271.077-76', '407.652.657-02', '124.236.554-01', '965.597.863-07', '433.388.031-92', '374.727.905-83', '535.184.330-75', '920.813.429-60', '993.285.771-87', '769.556.842-21']\n"
          ]
        }
      ]
    },
    {
      "cell_type": "code",
      "source": [
        "# Gerar o RG (9 digitos + digitos)\n",
        "\n",
        "def gera_rg (): # criação de função \n",
        "   numero_rg = str( random.randint(100000000, 999999999) ) \n",
        "   digito = str( random.randint(0, 9) )\n",
        "   numero = f'{numero_rg}-{digito}' #junção formatada com numero e digito\n",
        "   return numero #função que retorna rg\n",
        "\n",
        "lista_rg = []\n",
        "for i in range(n):\n",
        "    rg = gera_rg() #chamada da função\n",
        "    lista_rg.append(rg)\n",
        "\n",
        "print(lista_rg)\n"
      ],
      "metadata": {
        "colab": {
          "base_uri": "https://localhost:8080/"
        },
        "id": "SXG8Gfj13GXC",
        "outputId": "65bcbeb1-f5c0-4baf-bc2f-d3138c3cfcc2"
      },
      "execution_count": 63,
      "outputs": [
        {
          "output_type": "stream",
          "name": "stdout",
          "text": [
            "['193552501-6', '589150717-7', '928492347-6', '916069812-4', '780877654-2', '680481588-0', '569342831-8', '828753589-1', '485948027-9', '512849023-0', '215395475-3', '192178205-2', '167097425-5', '602232398-7', '328446020-3', '556003925-9', '567262367-6', '711967963-8', '883128630-8', '462891661-2']\n"
          ]
        }
      ]
    },
    {
      "cell_type": "code",
      "source": [
        "#Endereco \n",
        "enderecos = fake.address()\n",
        "lista_enderecos = []\n",
        "\n",
        "for i in range (n):\n",
        "  enderecos = fake.address()\n",
        "  lista_enderecos.append(enderecos)\n",
        "  \n",
        "\n",
        "print(lista_enderecos)"
      ],
      "metadata": {
        "colab": {
          "base_uri": "https://localhost:8080/"
        },
        "id": "Im4aHKOG476U",
        "outputId": "79bf040b-e898-431b-f738-d6a0c1b0c503"
      },
      "execution_count": 64,
      "outputs": [
        {
          "output_type": "stream",
          "name": "stdout",
          "text": [
            "['Loteamento Cardoso, 14\\nVila Santa Monica 2ª Seção\\n22392-815 Nunes / RS', 'Via Aragão\\nSanta Efigênia\\n53525-014 Sales / BA', 'Lagoa de Castro, 44\\nVila Atila De Paiva\\n29183-592 da Mata de Minas / ES', 'Alameda de Cavalcanti, 96\\nMarilandia\\n71418552 Sales de Moreira / PA', 'Rodovia de Souza, 5\\nGrota\\n01381993 Fernandes das Pedras / SP', 'Rodovia Moura\\nConjunto Lagoa\\n08127864 Fernandes do Galho / CE', 'Conjunto de da Luz, 6\\nMangueiras\\n66890-970 Dias de Minas / ES', 'Núcleo João Miguel Costa\\nTupi B\\n88286-842 da Paz / ES', 'Distrito Sales, 45\\nSão Gabriel\\n07879501 da Luz de Costela / AL', 'Favela de das Neves, 744\\nMinaslandia\\n22811858 Barbosa / PR', 'Distrito da Conceição, 430\\nVila Das Oliveiras\\n37339161 Nogueira / PA', 'Praia de Souza, 8\\nPadre Eustáquio\\n92543-971 da Costa / MT', 'Pátio Moraes, 4\\nSanta Lúcia\\n05921694 Castro da Mata / PR', 'Vale João Lucas Novaes, 58\\nSão Paulo\\n62258-721 Oliveira / DF', 'Loteamento Araújo, 3\\nJardim Felicidade\\n49323129 Sales Paulista / SP', 'Área da Luz, 27\\nDelta\\n58485-231 da Rocha Verde / PR', 'Colônia Rodrigues\\nCamargos\\n45474146 Sales / PI', 'Vereda de Araújo, 388\\nLorena\\n46625-515 Peixoto de Barbosa / PR', 'Favela Vieira, 454\\nAparecida\\n33170499 Correia / RO', 'Vereda Eduarda Castro, 2\\nParaíso\\n81371-551 Farias dos Dourados / PR']\n"
          ]
        }
      ]
    },
    {
      "cell_type": "code",
      "source": [
        "# definição de salários \n",
        "salario = float(fake.random_number(digits=4))\n",
        "\n",
        "lista_salarios = []\n",
        "for i in range (n):\n",
        "  salario = str(fake.random_number(digits=4))\n",
        "  casas_decimais = str(random.randint(00, 99))\n",
        "  salario_formatado = f'R$ {salario},{casas_decimais}'\n",
        "  salario_decimal = float(salario_formatado.replace('R$ ', '').replace(',', '.'))\n",
        "  salario_final = f\"R$ {salario_decimal:.2f}\"\n",
        "  lista_salarios.append(salario_final)\n",
        " \n",
        "print(lista_salarios)"
      ],
      "metadata": {
        "colab": {
          "base_uri": "https://localhost:8080/"
        },
        "id": "vc2RjHv1mYzj",
        "outputId": "12b06b7e-17f4-41f3-8e2c-214ca9e583db"
      },
      "execution_count": 110,
      "outputs": [
        {
          "output_type": "stream",
          "name": "stdout",
          "text": [
            "['R$ 4669.30', 'R$ 4652.79', 'R$ 5071.80', 'R$ 6582.68', 'R$ 9605.86', 'R$ 5746.30', 'R$ 2002.17', 'R$ 3100.97', 'R$ 3757.98', 'R$ 2788.27', 'R$ 3958.47', 'R$ 1216.65', 'R$ 5109.87', 'R$ 8855.70', 'R$ 8725.18', 'R$ 9574.10', 'R$ 5192.72', 'R$ 3714.49', 'R$ 5970.88', 'R$ 2156.52']\n"
          ]
        }
      ]
    },
    {
      "cell_type": "code",
      "source": [
        "#Criar um id identado de acordo com o tamanho da lista de nomes\n",
        "\n",
        "ids = list(range(1, n+1))  # list é uma função que tranforma o item em uma lista "
      ],
      "metadata": {
        "id": "pXr0zAYoeoDw"
      },
      "execution_count": 86,
      "outputs": []
    },
    {
      "cell_type": "code",
      "source": [
        "# criando um dicionário com os dados das listas \n",
        "\n",
        "tabela = {\n",
        "    'ID' : ids,\n",
        "    'Nome' : lista_nomes,\n",
        "    'CPF' : lista_cpf,\n",
        "    'RG' : lista_rg,\n",
        "    'Endereço' : lista_enderecos,\n",
        "    'Salário' : lista_salarios,\n",
        "    'Departamento' : [random.choice(['Operações', 'Adm', 'Tecnologia']) for i in range(n)]\n",
        "    \n",
        "}\n",
        "\n",
        "df = pd.DataFrame(tabela)\n",
        "df"
      ],
      "metadata": {
        "colab": {
          "base_uri": "https://localhost:8080/",
          "height": 677
        },
        "id": "AQvLwjdlRkxE",
        "outputId": "ea19d0c7-5f97-4667-ead3-34baa9c8d582"
      },
      "execution_count": 111,
      "outputs": [
        {
          "output_type": "execute_result",
          "data": {
            "text/plain": [
              "    ID                           Nome             CPF           RG  \\\n",
              "0    1                Agatha Monteiro  456.346.193-86  193552501-6   \n",
              "1    2                    Esther Lima  359.170.512-83  589150717-7   \n",
              "2    3                 Samuel Cardoso  976.156.958-64  928492347-6   \n",
              "3    4                  Renan Martins  962.449.531-93  916069812-4   \n",
              "4    5                  Joana da Mata  524.918.981-44  780877654-2   \n",
              "5    6           Sra. Laís Nascimento  743.056.636-78  680481588-0   \n",
              "6    7                    Raquel Lima  997.839.892-94  569342831-8   \n",
              "7    8                Emanuel Barbosa  922.793.198-88  828753589-1   \n",
              "8    9             Sr. Henrique Rocha  403.083.059-57  485948027-9   \n",
              "9   10               Clarice Carvalho  119.852.196-11  512849023-0   \n",
              "10  11                  Joaquim Cunha  576.271.077-76  215395475-3   \n",
              "11  12               Benício Ferreira  407.652.657-02  192178205-2   \n",
              "12  13                  Erick da Mota  124.236.554-01  167097425-5   \n",
              "13  14        Dra. Ana Luiza da Rocha  965.597.863-07  602232398-7   \n",
              "14  15              Ana Vitória Gomes  433.388.031-92  328446020-3   \n",
              "15  16                   Olivia Viana  374.727.905-83  556003925-9   \n",
              "16  17  Sra. Maria Clara da Conceição  535.184.330-75  567262367-6   \n",
              "17  18               Maysa Nascimento  920.813.429-60  711967963-8   \n",
              "18  19                   Alícia Rocha  993.285.771-87  883128630-8   \n",
              "19  20                 Isadora Barros  769.556.842-21  462891661-2   \n",
              "\n",
              "                                             Endereço     Salário Departamento  \n",
              "0   Loteamento Cardoso, 14\\nVila Santa Monica 2ª S...  R$ 4669.30          Adm  \n",
              "1    Via Aragão\\nSanta Efigênia\\n53525-014 Sales / BA  R$ 4652.79    Operações  \n",
              "2   Lagoa de Castro, 44\\nVila Atila De Paiva\\n2918...  R$ 5071.80    Operações  \n",
              "3   Alameda de Cavalcanti, 96\\nMarilandia\\n7141855...  R$ 6582.68          Adm  \n",
              "4   Rodovia de Souza, 5\\nGrota\\n01381993 Fernandes...  R$ 9605.86          Adm  \n",
              "5   Rodovia Moura\\nConjunto Lagoa\\n08127864 Fernan...  R$ 5746.30          Adm  \n",
              "6   Conjunto de da Luz, 6\\nMangueiras\\n66890-970 D...  R$ 2002.17          Adm  \n",
              "7   Núcleo João Miguel Costa\\nTupi B\\n88286-842 da...  R$ 3100.97   Tecnologia  \n",
              "8   Distrito Sales, 45\\nSão Gabriel\\n07879501 da L...  R$ 3757.98          Adm  \n",
              "9   Favela de das Neves, 744\\nMinaslandia\\n2281185...  R$ 2788.27   Tecnologia  \n",
              "10  Distrito da Conceição, 430\\nVila Das Oliveiras...  R$ 3958.47          Adm  \n",
              "11  Praia de Souza, 8\\nPadre Eustáquio\\n92543-971 ...  R$ 1216.65   Tecnologia  \n",
              "12  Pátio Moraes, 4\\nSanta Lúcia\\n05921694 Castro ...  R$ 5109.87   Tecnologia  \n",
              "13  Vale João Lucas Novaes, 58\\nSão Paulo\\n62258-7...  R$ 8855.70   Tecnologia  \n",
              "14  Loteamento Araújo, 3\\nJardim Felicidade\\n49323...  R$ 8725.18          Adm  \n",
              "15  Área da Luz, 27\\nDelta\\n58485-231 da Rocha Ver...  R$ 9574.10    Operações  \n",
              "16   Colônia Rodrigues\\nCamargos\\n45474146 Sales / PI  R$ 5192.72    Operações  \n",
              "17  Vereda de Araújo, 388\\nLorena\\n46625-515 Peixo...  R$ 3714.49   Tecnologia  \n",
              "18  Favela Vieira, 454\\nAparecida\\n33170499 Correi...  R$ 5970.88    Operações  \n",
              "19  Vereda Eduarda Castro, 2\\nParaíso\\n81371-551 F...  R$ 2156.52    Operações  "
            ],
            "text/html": [
              "\n",
              "  <div id=\"df-0341c945-111b-4cf1-8959-2bb5a698a119\">\n",
              "    <div class=\"colab-df-container\">\n",
              "      <div>\n",
              "<style scoped>\n",
              "    .dataframe tbody tr th:only-of-type {\n",
              "        vertical-align: middle;\n",
              "    }\n",
              "\n",
              "    .dataframe tbody tr th {\n",
              "        vertical-align: top;\n",
              "    }\n",
              "\n",
              "    .dataframe thead th {\n",
              "        text-align: right;\n",
              "    }\n",
              "</style>\n",
              "<table border=\"1\" class=\"dataframe\">\n",
              "  <thead>\n",
              "    <tr style=\"text-align: right;\">\n",
              "      <th></th>\n",
              "      <th>ID</th>\n",
              "      <th>Nome</th>\n",
              "      <th>CPF</th>\n",
              "      <th>RG</th>\n",
              "      <th>Endereço</th>\n",
              "      <th>Salário</th>\n",
              "      <th>Departamento</th>\n",
              "    </tr>\n",
              "  </thead>\n",
              "  <tbody>\n",
              "    <tr>\n",
              "      <th>0</th>\n",
              "      <td>1</td>\n",
              "      <td>Agatha Monteiro</td>\n",
              "      <td>456.346.193-86</td>\n",
              "      <td>193552501-6</td>\n",
              "      <td>Loteamento Cardoso, 14\\nVila Santa Monica 2ª S...</td>\n",
              "      <td>R$ 4669.30</td>\n",
              "      <td>Adm</td>\n",
              "    </tr>\n",
              "    <tr>\n",
              "      <th>1</th>\n",
              "      <td>2</td>\n",
              "      <td>Esther Lima</td>\n",
              "      <td>359.170.512-83</td>\n",
              "      <td>589150717-7</td>\n",
              "      <td>Via Aragão\\nSanta Efigênia\\n53525-014 Sales / BA</td>\n",
              "      <td>R$ 4652.79</td>\n",
              "      <td>Operações</td>\n",
              "    </tr>\n",
              "    <tr>\n",
              "      <th>2</th>\n",
              "      <td>3</td>\n",
              "      <td>Samuel Cardoso</td>\n",
              "      <td>976.156.958-64</td>\n",
              "      <td>928492347-6</td>\n",
              "      <td>Lagoa de Castro, 44\\nVila Atila De Paiva\\n2918...</td>\n",
              "      <td>R$ 5071.80</td>\n",
              "      <td>Operações</td>\n",
              "    </tr>\n",
              "    <tr>\n",
              "      <th>3</th>\n",
              "      <td>4</td>\n",
              "      <td>Renan Martins</td>\n",
              "      <td>962.449.531-93</td>\n",
              "      <td>916069812-4</td>\n",
              "      <td>Alameda de Cavalcanti, 96\\nMarilandia\\n7141855...</td>\n",
              "      <td>R$ 6582.68</td>\n",
              "      <td>Adm</td>\n",
              "    </tr>\n",
              "    <tr>\n",
              "      <th>4</th>\n",
              "      <td>5</td>\n",
              "      <td>Joana da Mata</td>\n",
              "      <td>524.918.981-44</td>\n",
              "      <td>780877654-2</td>\n",
              "      <td>Rodovia de Souza, 5\\nGrota\\n01381993 Fernandes...</td>\n",
              "      <td>R$ 9605.86</td>\n",
              "      <td>Adm</td>\n",
              "    </tr>\n",
              "    <tr>\n",
              "      <th>5</th>\n",
              "      <td>6</td>\n",
              "      <td>Sra. Laís Nascimento</td>\n",
              "      <td>743.056.636-78</td>\n",
              "      <td>680481588-0</td>\n",
              "      <td>Rodovia Moura\\nConjunto Lagoa\\n08127864 Fernan...</td>\n",
              "      <td>R$ 5746.30</td>\n",
              "      <td>Adm</td>\n",
              "    </tr>\n",
              "    <tr>\n",
              "      <th>6</th>\n",
              "      <td>7</td>\n",
              "      <td>Raquel Lima</td>\n",
              "      <td>997.839.892-94</td>\n",
              "      <td>569342831-8</td>\n",
              "      <td>Conjunto de da Luz, 6\\nMangueiras\\n66890-970 D...</td>\n",
              "      <td>R$ 2002.17</td>\n",
              "      <td>Adm</td>\n",
              "    </tr>\n",
              "    <tr>\n",
              "      <th>7</th>\n",
              "      <td>8</td>\n",
              "      <td>Emanuel Barbosa</td>\n",
              "      <td>922.793.198-88</td>\n",
              "      <td>828753589-1</td>\n",
              "      <td>Núcleo João Miguel Costa\\nTupi B\\n88286-842 da...</td>\n",
              "      <td>R$ 3100.97</td>\n",
              "      <td>Tecnologia</td>\n",
              "    </tr>\n",
              "    <tr>\n",
              "      <th>8</th>\n",
              "      <td>9</td>\n",
              "      <td>Sr. Henrique Rocha</td>\n",
              "      <td>403.083.059-57</td>\n",
              "      <td>485948027-9</td>\n",
              "      <td>Distrito Sales, 45\\nSão Gabriel\\n07879501 da L...</td>\n",
              "      <td>R$ 3757.98</td>\n",
              "      <td>Adm</td>\n",
              "    </tr>\n",
              "    <tr>\n",
              "      <th>9</th>\n",
              "      <td>10</td>\n",
              "      <td>Clarice Carvalho</td>\n",
              "      <td>119.852.196-11</td>\n",
              "      <td>512849023-0</td>\n",
              "      <td>Favela de das Neves, 744\\nMinaslandia\\n2281185...</td>\n",
              "      <td>R$ 2788.27</td>\n",
              "      <td>Tecnologia</td>\n",
              "    </tr>\n",
              "    <tr>\n",
              "      <th>10</th>\n",
              "      <td>11</td>\n",
              "      <td>Joaquim Cunha</td>\n",
              "      <td>576.271.077-76</td>\n",
              "      <td>215395475-3</td>\n",
              "      <td>Distrito da Conceição, 430\\nVila Das Oliveiras...</td>\n",
              "      <td>R$ 3958.47</td>\n",
              "      <td>Adm</td>\n",
              "    </tr>\n",
              "    <tr>\n",
              "      <th>11</th>\n",
              "      <td>12</td>\n",
              "      <td>Benício Ferreira</td>\n",
              "      <td>407.652.657-02</td>\n",
              "      <td>192178205-2</td>\n",
              "      <td>Praia de Souza, 8\\nPadre Eustáquio\\n92543-971 ...</td>\n",
              "      <td>R$ 1216.65</td>\n",
              "      <td>Tecnologia</td>\n",
              "    </tr>\n",
              "    <tr>\n",
              "      <th>12</th>\n",
              "      <td>13</td>\n",
              "      <td>Erick da Mota</td>\n",
              "      <td>124.236.554-01</td>\n",
              "      <td>167097425-5</td>\n",
              "      <td>Pátio Moraes, 4\\nSanta Lúcia\\n05921694 Castro ...</td>\n",
              "      <td>R$ 5109.87</td>\n",
              "      <td>Tecnologia</td>\n",
              "    </tr>\n",
              "    <tr>\n",
              "      <th>13</th>\n",
              "      <td>14</td>\n",
              "      <td>Dra. Ana Luiza da Rocha</td>\n",
              "      <td>965.597.863-07</td>\n",
              "      <td>602232398-7</td>\n",
              "      <td>Vale João Lucas Novaes, 58\\nSão Paulo\\n62258-7...</td>\n",
              "      <td>R$ 8855.70</td>\n",
              "      <td>Tecnologia</td>\n",
              "    </tr>\n",
              "    <tr>\n",
              "      <th>14</th>\n",
              "      <td>15</td>\n",
              "      <td>Ana Vitória Gomes</td>\n",
              "      <td>433.388.031-92</td>\n",
              "      <td>328446020-3</td>\n",
              "      <td>Loteamento Araújo, 3\\nJardim Felicidade\\n49323...</td>\n",
              "      <td>R$ 8725.18</td>\n",
              "      <td>Adm</td>\n",
              "    </tr>\n",
              "    <tr>\n",
              "      <th>15</th>\n",
              "      <td>16</td>\n",
              "      <td>Olivia Viana</td>\n",
              "      <td>374.727.905-83</td>\n",
              "      <td>556003925-9</td>\n",
              "      <td>Área da Luz, 27\\nDelta\\n58485-231 da Rocha Ver...</td>\n",
              "      <td>R$ 9574.10</td>\n",
              "      <td>Operações</td>\n",
              "    </tr>\n",
              "    <tr>\n",
              "      <th>16</th>\n",
              "      <td>17</td>\n",
              "      <td>Sra. Maria Clara da Conceição</td>\n",
              "      <td>535.184.330-75</td>\n",
              "      <td>567262367-6</td>\n",
              "      <td>Colônia Rodrigues\\nCamargos\\n45474146 Sales / PI</td>\n",
              "      <td>R$ 5192.72</td>\n",
              "      <td>Operações</td>\n",
              "    </tr>\n",
              "    <tr>\n",
              "      <th>17</th>\n",
              "      <td>18</td>\n",
              "      <td>Maysa Nascimento</td>\n",
              "      <td>920.813.429-60</td>\n",
              "      <td>711967963-8</td>\n",
              "      <td>Vereda de Araújo, 388\\nLorena\\n46625-515 Peixo...</td>\n",
              "      <td>R$ 3714.49</td>\n",
              "      <td>Tecnologia</td>\n",
              "    </tr>\n",
              "    <tr>\n",
              "      <th>18</th>\n",
              "      <td>19</td>\n",
              "      <td>Alícia Rocha</td>\n",
              "      <td>993.285.771-87</td>\n",
              "      <td>883128630-8</td>\n",
              "      <td>Favela Vieira, 454\\nAparecida\\n33170499 Correi...</td>\n",
              "      <td>R$ 5970.88</td>\n",
              "      <td>Operações</td>\n",
              "    </tr>\n",
              "    <tr>\n",
              "      <th>19</th>\n",
              "      <td>20</td>\n",
              "      <td>Isadora Barros</td>\n",
              "      <td>769.556.842-21</td>\n",
              "      <td>462891661-2</td>\n",
              "      <td>Vereda Eduarda Castro, 2\\nParaíso\\n81371-551 F...</td>\n",
              "      <td>R$ 2156.52</td>\n",
              "      <td>Operações</td>\n",
              "    </tr>\n",
              "  </tbody>\n",
              "</table>\n",
              "</div>\n",
              "      <button class=\"colab-df-convert\" onclick=\"convertToInteractive('df-0341c945-111b-4cf1-8959-2bb5a698a119')\"\n",
              "              title=\"Convert this dataframe to an interactive table.\"\n",
              "              style=\"display:none;\">\n",
              "        \n",
              "  <svg xmlns=\"http://www.w3.org/2000/svg\" height=\"24px\"viewBox=\"0 0 24 24\"\n",
              "       width=\"24px\">\n",
              "    <path d=\"M0 0h24v24H0V0z\" fill=\"none\"/>\n",
              "    <path d=\"M18.56 5.44l.94 2.06.94-2.06 2.06-.94-2.06-.94-.94-2.06-.94 2.06-2.06.94zm-11 1L8.5 8.5l.94-2.06 2.06-.94-2.06-.94L8.5 2.5l-.94 2.06-2.06.94zm10 10l.94 2.06.94-2.06 2.06-.94-2.06-.94-.94-2.06-.94 2.06-2.06.94z\"/><path d=\"M17.41 7.96l-1.37-1.37c-.4-.4-.92-.59-1.43-.59-.52 0-1.04.2-1.43.59L10.3 9.45l-7.72 7.72c-.78.78-.78 2.05 0 2.83L4 21.41c.39.39.9.59 1.41.59.51 0 1.02-.2 1.41-.59l7.78-7.78 2.81-2.81c.8-.78.8-2.07 0-2.86zM5.41 20L4 18.59l7.72-7.72 1.47 1.35L5.41 20z\"/>\n",
              "  </svg>\n",
              "      </button>\n",
              "      \n",
              "  <style>\n",
              "    .colab-df-container {\n",
              "      display:flex;\n",
              "      flex-wrap:wrap;\n",
              "      gap: 12px;\n",
              "    }\n",
              "\n",
              "    .colab-df-convert {\n",
              "      background-color: #E8F0FE;\n",
              "      border: none;\n",
              "      border-radius: 50%;\n",
              "      cursor: pointer;\n",
              "      display: none;\n",
              "      fill: #1967D2;\n",
              "      height: 32px;\n",
              "      padding: 0 0 0 0;\n",
              "      width: 32px;\n",
              "    }\n",
              "\n",
              "    .colab-df-convert:hover {\n",
              "      background-color: #E2EBFA;\n",
              "      box-shadow: 0px 1px 2px rgba(60, 64, 67, 0.3), 0px 1px 3px 1px rgba(60, 64, 67, 0.15);\n",
              "      fill: #174EA6;\n",
              "    }\n",
              "\n",
              "    [theme=dark] .colab-df-convert {\n",
              "      background-color: #3B4455;\n",
              "      fill: #D2E3FC;\n",
              "    }\n",
              "\n",
              "    [theme=dark] .colab-df-convert:hover {\n",
              "      background-color: #434B5C;\n",
              "      box-shadow: 0px 1px 3px 1px rgba(0, 0, 0, 0.15);\n",
              "      filter: drop-shadow(0px 1px 2px rgba(0, 0, 0, 0.3));\n",
              "      fill: #FFFFFF;\n",
              "    }\n",
              "  </style>\n",
              "\n",
              "      <script>\n",
              "        const buttonEl =\n",
              "          document.querySelector('#df-0341c945-111b-4cf1-8959-2bb5a698a119 button.colab-df-convert');\n",
              "        buttonEl.style.display =\n",
              "          google.colab.kernel.accessAllowed ? 'block' : 'none';\n",
              "\n",
              "        async function convertToInteractive(key) {\n",
              "          const element = document.querySelector('#df-0341c945-111b-4cf1-8959-2bb5a698a119');\n",
              "          const dataTable =\n",
              "            await google.colab.kernel.invokeFunction('convertToInteractive',\n",
              "                                                     [key], {});\n",
              "          if (!dataTable) return;\n",
              "\n",
              "          const docLinkHtml = 'Like what you see? Visit the ' +\n",
              "            '<a target=\"_blank\" href=https://colab.research.google.com/notebooks/data_table.ipynb>data table notebook</a>'\n",
              "            + ' to learn more about interactive tables.';\n",
              "          element.innerHTML = '';\n",
              "          dataTable['output_type'] = 'display_data';\n",
              "          await google.colab.output.renderOutput(dataTable, element);\n",
              "          const docLink = document.createElement('div');\n",
              "          docLink.innerHTML = docLinkHtml;\n",
              "          element.appendChild(docLink);\n",
              "        }\n",
              "      </script>\n",
              "    </div>\n",
              "  </div>\n",
              "  "
            ]
          },
          "metadata": {},
          "execution_count": 111
        }
      ]
    },
    {
      "cell_type": "code",
      "source": [],
      "metadata": {
        "id": "g_dnpVL45wcY"
      },
      "execution_count": null,
      "outputs": []
    }
  ]
}