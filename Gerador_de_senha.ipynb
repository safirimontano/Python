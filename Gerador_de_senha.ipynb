{
  "nbformat": 4,
  "nbformat_minor": 0,
  "metadata": {
    "colab": {
      "provenance": [],
      "authorship_tag": "ABX9TyMon/sjV6QJ06+XRynxxik3",
      "include_colab_link": true
    },
    "kernelspec": {
      "name": "python3",
      "display_name": "Python 3"
    },
    "language_info": {
      "name": "python"
    }
  },
  "cells": [
    {
      "cell_type": "markdown",
      "metadata": {
        "id": "view-in-github",
        "colab_type": "text"
      },
      "source": [
        "<a href=\"https://colab.research.google.com/github/safirimontano/Python/blob/main/Gerador_de_senha.ipynb\" target=\"_parent\"><img src=\"https://colab.research.google.com/assets/colab-badge.svg\" alt=\"Open In Colab\"/></a>"
      ]
    },
    {
      "cell_type": "code",
      "source": [
        "import random\n",
        "\n",
        "def gerador():\n",
        "    senha = \"\"  # Iniciando a variável vazia\n",
        "    letra = \"qwertyuiopasdfghjklçzxcvbnm\"\n",
        "    letraMaiuscula = \"QWERTYUIOIPASDFGHJKLÇZXCVBNM\"\n",
        "    numero = \"0123456789\"\n",
        "    especial = \"!@#$%&*?*\"\n",
        "\n",
        "    # É adicionado 2 caracteres de cada tipo\n",
        "    for digito in range(2):\n",
        "        aleatorio1 = random.choice(letraMaiuscula)\n",
        "        senha += aleatorio1\n",
        "\n",
        "    for digito in range(2):\n",
        "        aleatorio1 = random.choice(letra)\n",
        "        senha += aleatorio1\n",
        "\n",
        "    for digito in range(2):\n",
        "        aleatorio2 = random.choice(numero)\n",
        "        senha += aleatorio2\n",
        "\n",
        "    for digito in range(2):\n",
        "        aleatorio3 = random.choice(especial)\n",
        "        senha += aleatorio3\n",
        "\n",
        "    senha = ''.join(random.sample(senha, len(senha)))\n",
        "\n",
        "\n",
        "    print(\"Senha nova gerada: \" + senha)\n",
        "\n",
        "# Chamar a função para apresentação do resultado.\n",
        "gerador()\n"
      ],
      "metadata": {
        "colab": {
          "base_uri": "https://localhost:8080/"
        },
        "id": "AnARB1b9Dp3J",
        "outputId": "48a7d4e2-99cb-4564-bd8e-1aa34c993ac4"
      },
      "execution_count": 14,
      "outputs": [
        {
          "output_type": "stream",
          "name": "stdout",
          "text": [
            "Senha nova gerada: 0mNl*Q*7\n"
          ]
        }
      ]
    }
  ]
}